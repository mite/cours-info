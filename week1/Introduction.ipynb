{
 "cells": [
  {
   "cell_type": "markdown",
   "metadata": {},
   "source": [
    "# Introduction à la programmation\n",
    "\n",
    "Bonjour! Dans ce petit cours en ligne, vous allez apprendre les rudiments de la programmation. Le but de ce cours n'est pas de vous transformer en programmeur (nous n'avons pas assez de temps ensemble), mais plutôt de vous introduire à certains concepts, qui vous permettront de comprendre ce qui se cache derrière les outils informatiques et de mieux savoir les utiliser.\n",
    "\n",
    "Ce cours va s'articuler autour des points suivants:\n",
    "1. Bases de la programmation en Python\n",
    "2. Algorithmes\n",
    "3. Les API\n",
    "4. Les interfaces utilisateurs\n",
    "5. Les réseaux de neurones\n",
    "\n",
    "Ce cours sera dispensé via des notebook Jupyter (ce que vous utilisez maintenant).\n",
    "\n",
    "### Les notebooks Jupyter\n",
    "\n",
    "Avant de commencer avec la programmation, lisez les informations ci-dessous pour comprendre ce qu'est un notebook Jupyter et apprendre à l'utiliser:\n",
    "\n",
    "Tout d'abord, un notebook Jupyter ressemble à une page internet, mais c'est beaucoup plus que ça...\n",
    "\n",
    "Vous les savez peut-être déjà, mais les pages internets résident sur des serveurs loin de vous, qui sont des ordinateurs dont le rôle principal est de \"servir\" des pages internet, c'est-à-dire de les envoyer aux utilisateurs finaux.\n",
    "\n",
    "Un notebook Jupyter est un moyen de faire exécuter un programme sur le serveur où il réside, et c'est vous qui allez en contrôler l'exécution. De cette manière, vous pouvez apprendre la programmation et tester vos programmes, sans rien avoir besoin d'installer et aussi bien à partir d'un ordinateur que d'un téléphone portable.\n",
    "\n",
    "### Éxécuter un programme sur un notebook Jupyter\n",
    "\n",
    "Un notebook Jupyter peut contenir du texte, des images, des vidéos, comme une page internet habituelle, mais également des boûts de programmes que vous pouvez modifer et exécuter.\n",
    "\n",
    "Dans la cellule ci-dessous, il y a une ligne de programme pour afficher \"Bonjour tout le monde!\". Pour l'exécuter, tout d'abord cliquez sur cette cellule (c'est-à-dire sur la ligne de programmation) pour la sélectionner.\n",
    "\n",
    "Ensuite, vous avez deux options pour l'exécuter:\n",
    "1. Pressez SHIFT-RETURN ou SHIFT-ENTER (c'est-à-dire, pressez la touche Shift (= majuscule) et la touche RETURN/ENTER en même temps).\n",
    "<img src=\"https://www.uebeplan.ch/jupyter/cours-info/img/shift-enter-small.png\" alt=\"SHIFT-RETURN\" width=\"200\"/>\n",
    "\n",
    "2. Alternativement, vous pouvez cliquer sur la flèche (Run) de la barre d'outil.\n",
    "<img src=\"https://www.uebeplan.ch/jupyter/cours-info/img/run-key.png\" alt=\"RUN\" width=\"600\"/>\n",
    "\n",
    "\n",
    "Allez-y, faites-exécuter la cellule ci-dessous!"
   ]
  },
  {
   "cell_type": "code",
   "execution_count": null,
   "metadata": {},
   "outputs": [],
   "source": [
    "print(\"Bonjour tout le monde!\")"
   ]
  },
  {
   "cell_type": "markdown",
   "metadata": {},
   "source": [
    "*Bonjour tout le monde!* s'est affiché sous la cellule? Bravo! Sinon, essayez encore et contactez-moi si vous n'y arrivez pas...\n",
    "\n",
    "Dans les coulisses, cette ligne de programmation a été envoyée au serveur et exécutée. Le serveur a ensuite renvoyé le texte que la page internet a affiché.\n",
    "\n",
    "Maintenant, éditez la cellule ci-dessus pour afficher un autre texte. N'oubliez pas de mettre le texte à afficher entre guillemets (\"\") comme ci-dessus, et n'oubliez pas de presser CTRL-RETURN pour exécuter la ligne après l'avoir modifiée...\n",
    "\n",
    "### Le kernel ou environnement d'éxécution\n",
    "\n",
    "Le serveur maintient un environnement de programmation, ou kernel, pour chaque notebook Jupyter et utilisateur, c'est-à-dire un ensemble de variables, de valeurs et de fonctions. Vous avez déjà vu ce que sont des variables: des petites boîtes avec de l'information qui est mise en mémoire dedans. Les fonctions, vous les découvrirez dans le notebook Jupyter suivant...\n",
    "\n",
    "Ce que ça signifie est que si vous définissez une variable dans une cellule, comme ci-dessous:\n",
    "*(Éxécutez la cellule ci-dessous en pressant SHIFT-RETURN - ne vous inquiétez pas si rien ne s'affiche, c'est normal, tout se passe cette fois uniquement sur le serveur)*"
   ]
  },
  {
   "cell_type": "code",
   "execution_count": null,
   "metadata": {},
   "outputs": [],
   "source": [
    "# crée la variable a et met le nombre 5 dedans\n",
    "a = 5"
   ]
  },
  {
   "cell_type": "markdown",
   "metadata": {},
   "source": [
    "Et si vous utilisez la valeur de cette variable pour tard sur la page, comme ci-dessous:\n",
    "*(Éxécutez la cellule ci-dessous en pressant SHIFT-RETURN)*"
   ]
  },
  {
   "cell_type": "code",
   "execution_count": null,
   "metadata": {},
   "outputs": [],
   "source": [
    "a + 1"
   ]
  },
  {
   "cell_type": "markdown",
   "metadata": {},
   "source": [
    "... le serveur se souvient de la valeur de la variable $a$ et affiche 6.\n",
    "\n",
    "### Erreurs de programmation\n",
    "\n",
    "Quand on programme, il arrive (souvent!!!) qu'on fasse des erreurs. La plupart des erreurs ne sont pas très graves et génèrent simplement un message d'erreur avec des informations qui vous aident à corriger votre programme.\n",
    "\n",
    "Mais il y a un autre type d'erreurs: les erreurs qui crashent l'environnement d'exécution.\n",
    "\n",
    "Un petit exemple:\n",
    "Le petit programme ci-dessous affiche les nombres 1 à 10. Ce n'est pas la manière la plus pratique de faire ça (on pourrait à la place utiliser une boucle *for*), mais elle marche:\n",
    "*(Éxécutez la cellule ci-dessous en pressant SHIFT-RETURN)*"
   ]
  },
  {
   "cell_type": "code",
   "execution_count": null,
   "metadata": {},
   "outputs": [],
   "source": [
    "# mettre 1 dans la variable i\n",
    "i = 1\n",
    "# début de la boucle: éxécuter tant que i est plus petit ou égal à 10\n",
    "while i <= 10:\n",
    "    # afficher la valeur de la variable i\n",
    "    print(i)\n",
    "    # incrémenter i de 1\n",
    "    i += 1"
   ]
  },
  {
   "cell_type": "markdown",
   "metadata": {},
   "source": [
    "Les commentaires dans le programme ci-dessus expliquent son fonctionnement... Maintenant, que se passerait-il si vous aviez oublier d'écrire la ligne <code>i += 1</code>?\n",
    "\n",
    "(Réfléchissez-y avant de lire ce qui suit!)\n",
    "\n",
    "Cette ligne augmente la valeur de $i$ par 1. Si elle n'était pas là, la valeur de $i$ serait toujour de 1 à chaque itération de la boucle et la boucle écrirait à chaque fois \"1\", sans jamais terminer...\n",
    "\n",
    "Je vous invite à faire l'expérience suivante... **mais avant de la faire, lisez les instructions attentivement jusqu'au bout!**\n",
    "\n",
    "Vous allez mettre en commentaire la ligne <code>i += 1</code> en écrivant un dièse # juste avant. Comme ça c'est comme si elle n'était pas là et elle va être ignorée par le programme. Quand vous exécuterez cette cellule, le serveur va envoyer des \"1\" à afficher au notebook Jupyter, ad infinitum...\n",
    "\n",
    "Alors avant d'exécuter cette cellule, **assurez-vous de savoir arrêter l'éxécution d'un notebook Jupyter**. Pour cela, cliquez sur le menu *Kernel* et sélectionnez *Interrupt*, ce qui va interrompre l'exécution du kernel.\n",
    "\n",
    "Vous êtes prêt et savez ce que vous avez à faire? Alors allez-y, mettez la ligne <code>i += 1</code> en commentaire, éxécutez à nouveau la cellule, puis arrêtez le kernel..."
   ]
  },
  {
   "cell_type": "markdown",
   "metadata": {},
   "source": [
    "# ...\n",
    "\n",
    "Vous êtes encore là? Ouf, vous et votre ordinateur se sont donc sortis sains et saufs de cette expérience!\n",
    "\n",
    "Si interrompre n'est pas suffisant, vous avez encore une solution de dernier recours: *Restart*.\n",
    "\n",
    "*Restart* va réinitialiser l'environnement d'éxécution du notebook, ce qui signifie qu'incidemment toutes les variables et fonctions que vous avez définies précédemment vont être oubliées.\n",
    "\n",
    "Allez-y, sélectionez *Restart* dans le menu Kernel. \n",
    "\n",
    "C'est fait? Le kernel a oublié maintenant les variables définies auparavant, en particulier la variable $a$. Essayez d'éxécuter la cellule ci-dessous et regardez ce qui se passe:"
   ]
  },
  {
   "cell_type": "code",
   "execution_count": null,
   "metadata": {},
   "outputs": [],
   "source": [
    "a + 1"
   ]
  },
  {
   "cell_type": "markdown",
   "metadata": {},
   "source": [
    "Voilà, c'est tout pour cette introduction aux notebook Jupyter. [Dans le prochain notebook: rappels sur la programmation et introduction aux fonctions.](Programmation1.ipynb)"
   ]
  }
 ],
 "metadata": {
  "kernelspec": {
   "display_name": "Python 3",
   "language": "python",
   "name": "python3"
  },
  "language_info": {
   "codemirror_mode": {
    "name": "ipython",
    "version": 3
   },
   "file_extension": ".py",
   "mimetype": "text/x-python",
   "name": "python",
   "nbconvert_exporter": "python",
   "pygments_lexer": "ipython3",
   "version": "3.7.6"
  }
 },
 "nbformat": 4,
 "nbformat_minor": 4
}
