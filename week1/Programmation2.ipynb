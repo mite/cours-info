{
 "cells": [
  {
   "cell_type": "markdown",
   "metadata": {},
   "source": [
    "# Bases de la programmation en Python (suite)\n",
    "\n",
    "Dans ce notebook, vous allez apprendre à manipuler les listes, à créer des fonctions et à utiliser les structures de contrôle.\n",
    "\n",
    "### Les listes\n",
    "\n",
    "Comme on a vu précédemment, les listes sont une manière de grouper des informations dans une seule variable. Ainsi, si vous voulez enregistrer les noms de tous les élèves d'une classe dans une variable, vous pouvez le faire avec une liste de la manière suivante:"
   ]
  },
  {
   "cell_type": "code",
   "execution_count": null,
   "metadata": {},
   "outputs": [],
   "source": [
    "eleves = ['François', 'Georges', 'Marie', 'Michelle', 'Isabelle']\n",
    "print(eleves)"
   ]
  },
  {
   "cell_type": "markdown",
   "metadata": {},
   "source": [
    "Si vous voulez connaître le nom d'un élève de la liste, vous pouvez y référer avec la notation `eleves[i]` où `i` est l'indexe du nom que vous voulez connaître. Attention, en Python, les indexes commencent à 0. Par exemple, pour connaître le premier nom de la liste, vous écriveriez:\n",
    "\n",
    "*(Exécuter la cellule ci-dessous)*"
   ]
  },
  {
   "cell_type": "code",
   "execution_count": null,
   "metadata": {},
   "outputs": [],
   "source": [
    "eleves[0]"
   ]
  },
  {
   "cell_type": "markdown",
   "metadata": {},
   "source": [
    "Que devez-vous faire pour obtenir le nom de Michelle (le quatrième nom de la liste)? Modifiez la cellule ci-dessus pour obtenir Michelle.\n",
    "\n",
    "Vous avez réussi? Vous deviez bien sûr écrire le nombre 3 à la place de 0, de la manière suivante:\n",
    "\n",
    "```\n",
    "eleves[3]\n",
    "```\n",
    "\n",
    "Vous pouvez également modifier un élément d'une liste en utilisant la notation `eleves[i] = \"quelque chose\"`, où `i` représente de nouveau l'indexe de l'élément à modifier et vaut 0 pour modifier le premier élément.\n",
    "\n",
    "Par exemple, la cellule suivante modifie le cinquième élément de la liste:\n",
    "\n",
    "*(Exécuter la cellule ci-dessous)*"
   ]
  },
  {
   "cell_type": "code",
   "execution_count": null,
   "metadata": {},
   "outputs": [],
   "source": [
    "eleves[4] = 'Isabeau'\n",
    "print(eleves)"
   ]
  },
  {
   "cell_type": "markdown",
   "metadata": {},
   "source": [
    "Les listes peuvent contenir des chaînes de caractères, comme on l'a vu ci-dessus, mais également elles peuvent également contenir des nombres et elles peuvent même contenir d'autres listes.\n",
    "\n",
    "Voici un exemple de liste contenant les notes des élèves de la classe et une liste contenant le genre des élèves:\n",
    "\n",
    "*(Exécuter la cellule ci-dessous)*"
   ]
  },
  {
   "cell_type": "code",
   "execution_count": null,
   "metadata": {},
   "outputs": [],
   "source": [
    "notes = [5,4,3.5,6,5]\n",
    "genres = ['G', 'G', 'F', 'F', 'F']"
   ]
  },
  {
   "cell_type": "markdown",
   "metadata": {},
   "source": [
    "### Les fonctions\n",
    "\n",
    "Parfois, on veut grouper certaines lignes de code pour pouvoir les faire exécuter facilement. C'est ce que permet de faire les fonctions.\n",
    "\n",
    "Par exemple, imaginez-vous que vous souhaitiez consulter le nom et la note du deuxième élève de la classe. Pour cela, vous pouvez exécuter la ligne de code suivante:\n",
    "\n",
    "*(Exécuter la cellule ci-dessous)*"
   ]
  },
  {
   "cell_type": "code",
   "execution_count": null,
   "metadata": {},
   "outputs": [],
   "source": [
    "print(\"Nom de l'élève: \"+eleves[1]+\", note de l'élève: \"+str(notes[1]))"
   ]
  },
  {
   "cell_type": "markdown",
   "metadata": {},
   "source": [
    "Notez comme la fonction `str` a été appliquée à `notes[i]` pour transformer la note de nombre en chaîne de caractères.\n",
    "\n",
    "Maintenant, si vous voulez connaître le nom et la note d'un autre élève, il faut recopier toute la ligne avec d'autres nombres entre parenthèses `[]`. Ce n'est pas très pratique.\n",
    "\n",
    "C'est la que les fonctions interviennent: on peut définir une fonction qui va nous donner facilement les informations qu'on veut sur l'élève de notre choix, de la manière suivante:\n",
    "\n",
    "*(Exécuter la cellule ci-dessous)*"
   ]
  },
  {
   "cell_type": "code",
   "execution_count": null,
   "metadata": {},
   "outputs": [],
   "source": [
    "# définition de la fonction info\n",
    "def info(i):\n",
    "    # affiche les informations de l'élève i\n",
    "    print(\"Nom de l'élève: \"+eleves[i]+\", note de l'élève: \"+str(notes[i]))\n",
    "\n",
    "# appelle la fonction info avec différentes valeurs du paramètre i\n",
    "info(1)\n",
    "info(2)\n",
    "info(3)"
   ]
  },
  {
   "cell_type": "markdown",
   "metadata": {},
   "source": [
    "Le code ci-dessus défini la fonction `info` qui prend le paramètre `i` et qui va afficher les informations sur le `i`-ième élève (rappel: `i` compte les élèves à partir de 0!). Remarquez que la ligne sous `def info(i):` est indentée, c'est-à-dire qu'elle commence par des espaces. Ces espaces indiquent que la ligne fait partie de la fonction. En Python, les espaces ont un rôle important et je vous invite à faire attention à la manière dont ils sont utilisés.\n",
    "\n",
    "Les trois lignes dernière ligne ne sont pas indentées et ne font donc pas partie de la fonction. Elles appellent la nouvelle fonction avec des valeurs de paramètre 1, 2 et 3 pour consulter les informations du deuxième, troisième et quatrième élève.\n",
    "\n",
    "Remarque: pour déifnir une fonction, il faut écrire le mot-clé `def` suivi du nom de la fonction, avec le nom des paramètres entre parenthèses, suivi de `:`. Les paramètres sont des informations qu'on veut donner à la fonction quand on l'appelle, comme le numéro de l'élève. S'il n'y a pas d'information à donner à la fonction, vous mettez simplement `()` après le nom de la fonction pour indiquer qu'il n'y a pas de paramètres.\n",
    "\n",
    "Exercice: créez une fonction `infoplus(i)` dans la cellule ci-dessous qui affiche également le genre de l'élève."
   ]
  },
  {
   "cell_type": "code",
   "execution_count": null,
   "metadata": {},
   "outputs": [],
   "source": [
    "# Écrivez votre fonction ci-dessous et testez-là!\n",
    "\n",
    "\n",
    "\n",
    "\n",
    "\n"
   ]
  },
  {
   "cell_type": "markdown",
   "metadata": {},
   "source": [
    "Vous avez réussi? Voici une solution ci-dessous:\n",
    "\n",
    "```\n",
    "def infoplus(i):\n",
    "    print(\"Nom de l'élève: \"+eleves[i]+\", note de l'élève: \"+str(notes[i])+\", genre de l'élève: \"+genres[i])\n",
    "    \n",
    "infoplus(1)\n",
    "infoplus(2)\n",
    "infoplus(3)\n",
    "```\n",
    "\n",
    "### Fonctions qui retournent des valeurs\n",
    "\n",
    "On peut également créer des fonctions qui retournent une ou plusieurs valeurs à la place d'afficher des informations. C'est d'ailleurs le cas pour la plupart des fonctions.\n",
    "\n",
    "Par exemple, imaginez-vous une fonction qui calcule la moyenne des élèves. Ce ne serait pas très pratique si cette moyenne était simplement affichée à l'écran. À près tout, peut-être qu'on ne veut pas l'afficher, mais la mettre en mémoire dans une variable par exemple, ou l'afficher dans une phrase et non toute seule sur une ligne à l'écran.\n",
    "\n",
    "Pour cela, on peut définir la fonction `moyenne` suivante:\n",
    "\n",
    "*(Exécuter la cellule ci-dessous)*"
   ]
  },
  {
   "cell_type": "code",
   "execution_count": null,
   "metadata": {},
   "outputs": [],
   "source": [
    "def moyenne():\n",
    "    return (notes[0] + notes[1] + notes[2] + notes[3] + notes[4])/5\n",
    "\n",
    "print(\"La moyenne des élèves est \"+str(moyenne()))"
   ]
  },
  {
   "cell_type": "markdown",
   "metadata": {},
   "source": [
    "La fonction moyenne ci-dessus calcule la moyenne des notes des élèves (on verra une manière plus pratique ci-dessous qui n'exige pas qu'on fasse la liste à la main de tous les élèves). \n",
    "\n",
    "Quand on appelle cette fonction en écrivant `moyenne()`, la moyenne est calculée, puis est *retournée*, c'est-à-dire que le nom de la fonction est remplacée dans le code par la valeur retournée, un peu comme si `moyenne` était une variable et qu'on était allé chercher la valeur de cette variable.\n",
    "\n",
    "\n",
    "### Structures de contrôle\n",
    "\n",
    "Un programme exécute généralement en succession chacune de ses lignes. On peut contrôler cependant l'ordre et le nombre de fois que certaines lignes de code vont être exécutées avec des structures de contrôle.\n",
    "\n",
    "#### Clauses conditionnelles\n",
    "\n",
    "La première structure de contrôle qu'on va voir est l'instruction `if` qui permet d'exécuter certaines lignes de code seulement si un condition donnée est vraie, et qui permet d'exécuter d'autres lignes sinon.\n",
    "\n",
    "Par exemple, imaginez-vous qu'on veuille afficher si un élève est une fille ou un garçon. Pour cela, on peut utiliser la structure de contrôle `if`. La cellule suivante affiche défini une fonction qui regarde si le genre est \"F\" et dans ce cas affiche un texte, et sinon, affiche un autre texte.\n",
    "\n",
    "La fonction définie est ensuite appelée pour vérifier le genre du deuxième élève (indexe de 1).\n",
    "\n",
    "*(Exécuter la cellule ci-dessous)*"
   ]
  },
  {
   "cell_type": "code",
   "execution_count": null,
   "metadata": {},
   "outputs": [],
   "source": [
    "# définition de la fonction genre qui affiche si l'élève i est un garçon ou une fille\n",
    "def genre(i):\n",
    "    if genres[i]=='F':\n",
    "        print(\"L'élève est une fille.\")\n",
    "    else:\n",
    "        print(\"L'élève est un garçon.\")\n",
    "    \n",
    "genre(1)"
   ]
  },
  {
   "cell_type": "markdown",
   "metadata": {},
   "source": [
    "Vérifiez que si vous appelez la fonction ci-dessus avec l'indexe 2, 3 ou 4, elle indique que l'élève est une fille.\n",
    "\n",
    "Quelques notes sur la syntaxe de la clause `if`:\n",
    "\n",
    "La première ligne de la clause `if` est formée du mot-clé `if` suivi d'un test (dans ce cas pour vérifier si le genre est 'F' et suivi de `:`. La ou les lignes suivantes sont indentées (c'est-à-dire commence par des espaces) et contiennent les instructions à exécuter si la condition est remplie. Ces instructions sont suivies par une `else:` tout seul sur une ligne, suivies des instructions, de nouveau indentées, à exécuter si la clause n'est pas remplie. La ligne `else:` et les instructions qui suivent sont optionnelles.\n",
    "\n",
    "Observez bien et mémorisez l'indentation de ces lignes. Sans cette indentation, Python ne saurait pas quelles lignes appartiennent à la clause `if` et le programme serait faux.\n",
    "\n",
    "Dans la fonction ci-dessus, notez le double signe `==` dans la condition `genres[i]=='F'`. Il est important en Python de faire la différence entre un simple signe `=` et un double signe `==`. Le simple `=` est utilisé dans des expressions de ce style:\n",
    "\n",
    "```\n",
    "a = 1\n",
    "```\n",
    "\n",
    "Il signifie: prendre la valeur à droite du signe égal, l'évaluer, et la mettre en mémoire dans la variable spécifiée à gauche du signe égal.\n",
    "\n",
    "En comparison, le double signe `==` a une signification très différente. Il signifie: évaluer la valeur à gauche du signe `==`, évaluer la valeur à droite du signe `==`. Si les deux valeurs sont égales, ça retourne `True`, ce qui signifie que la condition est remplie. Si les valeurs sont différentes, ça retourne `False`, ce qui signifie que la condition n'est pas satisfaite.\n",
    "\n",
    "Exercice: dans la cellule ci-dessous, définissez la fonction `resultat(i)` qui affiche si l'élève `i` passe l'année (c'est-à-dire a une moyenne plus grande ou égale à 4) ou rate l'année. Testez cette fonction avec les élèves 2 et 3 et vérifiez que le premier rate et que le deuxième réussi. Indice: pour cela, utiliser une clause conditionnelle avec la condition notes[i]>=4."
   ]
  },
  {
   "cell_type": "code",
   "execution_count": null,
   "metadata": {},
   "outputs": [],
   "source": [
    "# Écrivez votre propre fonction resultat(i), puis exécutez-là.\n",
    "\n",
    "\n",
    "\n",
    "\n",
    "\n",
    "\n"
   ]
  },
  {
   "cell_type": "markdown",
   "metadata": {},
   "source": [
    "Avez-vous réussi?\n",
    "\n",
    "Voici une solution possible:\n",
    "\n",
    "```\n",
    "def resultat(i):\n",
    "    if notes[i]>=4:\n",
    "        print(\"L'élève réussi l'année.\")\n",
    "    else:\n",
    "        print(\"L'élève rate l'année.\")\n",
    "    \n",
    "resultat(2)\n",
    "resultat(3)\n",
    "```\n",
    "\n",
    "#### Les valeurs booléennes et les opérations logiques\n",
    "\n",
    "Les valeurs `True` et `False` sont du type booléen, un type dont on n'a pas encore parlé. Les booléens peuvent seulement prendre les valeurs `True` et `False` et sont utilisés entre autre dans les clauses conditionnelles.\n",
    "\n",
    "Examinez les lignes de la cellule ci-dessous et essayez de prédire le résultat de chacune de ces lignes, avant de les exécuter. Remarque: `>=` signifie \"plus grand ou égal\". D'autres opérateurs de comparison sont `<=` qui signifie \"plus petit ou égal\", `>` qui signifie \"plus grand que\", `<` qui signifie \"plus petit que\" et `!=` qui signifie \"différent\".\n",
    "\n",
    "*(Exécuter la cellule ci-dessous)*"
   ]
  },
  {
   "cell_type": "code",
   "execution_count": null,
   "metadata": {},
   "outputs": [],
   "source": [
    "print(1 == 0)\n",
    "print(3 + 4 == 7)\n",
    "print(2 > -4)\n",
    "print(1 >= 1)"
   ]
  },
  {
   "cell_type": "markdown",
   "metadata": {},
   "source": [
    "Vos prédictions étaient-elles correctes? Si non, relisez les lignes ci-dessus et essayez de comprendre le résultat!\n",
    "\n",
    "Plusieurs valeurs booléennes peuvent être composées avec des opérations logiques. Il y a trois opérations logiques principales: les opérations `and`, `or` et `not`. Exécutez les lignes ci-dessous pour voir l'effet de ces opérateurs:"
   ]
  },
  {
   "cell_type": "code",
   "execution_count": null,
   "metadata": {},
   "outputs": [],
   "source": [
    "print(True and False)\n",
    "print(True or False)\n",
    "print(False or False)\n",
    "print(not True)\n",
    "print(not False)"
   ]
  },
  {
   "cell_type": "markdown",
   "metadata": {},
   "source": [
    "Les opérations logiques fonctionnent de la manière suivante:\n",
    "\n",
    "`a and b` retourne `True` si `a` et `b` sont tous les deux vrais, sinon ça retourne `False`.\n",
    "\n",
    "`a or b` retourne `True` si au moins un des deux est vrai et retourne `False` si tous les deux sont faux.\n",
    "\n",
    "`not a` retourne `True` si `a` est faux et `False` si `a` est vrai.\n",
    "\n",
    "Vous verrez plus loin quand on verra les boucles `while` comment ces opérations peuvent être utilisées.\n",
    "\n",
    "#### Les boucles de contrôles\n",
    "\n",
    "Une boucle de contrôle est une structure utilisée pour répéter une action un certain nombre de fois.\n",
    "\n",
    "Il y a deux types de boucles: les boucles `for`, qui sont plutôt utilisées quand on sait à l'avance le nombre de fois qu'on veut itérer (c'est à dire, répétez l'action), et les boucle `while` qui sont plutôt utilisées quand on ne sait pas à l'avance combien de fois on va répéter l'action.\n",
    "\n",
    "Voici un exemple d'utilisation d'une boucle `for`.\n",
    "\n",
    "*(Exécuter la cellule ci-dessous)*"
   ]
  },
  {
   "cell_type": "code",
   "execution_count": null,
   "metadata": {},
   "outputs": [],
   "source": [
    "for i in range(0,len(eleves)):\n",
    "    info(i)"
   ]
  },
  {
   "cell_type": "markdown",
   "metadata": {},
   "source": [
    "Notez qu'on a utilisé la fonction `info(i)` qu'on avait définie ci-dessus pour afficher les informations des élèves.\n",
    "\n",
    "La boucle `for` a la structure suivante:\n",
    "\n",
    "La première ligne `for i in range(0,len(eleves)):` indique que la variable `i` doit prendre successivement les valeurs 0 (inclus) à `len(eleves)` (exclu). `len(eleves)` est une fonction prédéfinie qui retourne la longueur de la liste `eleves`.\n",
    "\n",
    "La ligne suivante est indentée pour indiquer qu'elle fait partie de la boucle `for` et exécute la fonction `info(i)` qui affiche les informations de l'élève `i`.\n",
    "\n",
    "Voici un autre exemple de boucle `for` ci-dessous qui montre également une autre syntaxe:\n",
    "\n",
    "*(Exécuter la cellule ci-dessous)*"
   ]
  },
  {
   "cell_type": "code",
   "execution_count": null,
   "metadata": {},
   "outputs": [],
   "source": [
    "# initialise somme à zéro\n",
    "somme = 0\n",
    "# boucle sur tous les éléments de la liste notes\n",
    "for note in notes:\n",
    "    # ajoute la note courante à la variable somme\n",
    "    somme += note\n",
    "# défini la moyenne m comme la somme de toutes les notes divisée par le nombre de notes\n",
    "m = somme / len(notes)\n",
    "# affiche la moyenne calculée\n",
    "print(\"La moyenne des notes des élèves est \"+str(m)+\" .\")"
   ]
  },
  {
   "cell_type": "markdown",
   "metadata": {},
   "source": [
    "Quelques notes sur la structure et la syntaxe du code ci-dessus:\n",
    "\n",
    "Tout d'abord, on définit une variable `somme` qu'on initialise à zéro (c'est-à-dire dans laquelle on met la valeur initiale 0). La ligne `for note in notes` indique que la variable `note` prend à tour de rôle les valeurs de la liste `notes`. Dans la ligne de code suivantes, la note courante est ajoutée à la variable somme avec la commande `somme += note`. La commande `+=` prend la valeur à droite du signe `=+` et la rajoute à la valeur déjà en mémoire dans la variable à gauche du signe `+=`.\n",
    "\n",
    "À la fin de la boucle, la variable somme contient la somme de toutes les notes. On calcule la moyenne en utilisant `len(notes)` qui donne le nombre d'éléments dans notes et on met cette valeur en mémoire dans la variable `m`, qu'on peut ensuite afficher.\n",
    "\n",
    "Remarquez que l'itération sur chaque élève est faite automatiquement avec la boucle `for`. Il est donc aussi facile de calculer la moyenne des notes pour 50 élèves que pour 5.\n",
    "\n",
    "Remarquez également le rôle de la variable somme. Elle commence avec la valeur zéro et on y ajoute petit-à-petit la valeurs souhaitées. C'est une stratégie très souvent employée en programmation.\n",
    "\n",
    "Exercice:\n",
    "\n",
    "Maintenant, à vous de jouer: faites une boucle `for` qui itère sur la liste `genre` pour compter le nombre de filles dans la classe. Pour cela, vous aurez besoin d'une variable qui comptera la nombre de fille, similaire à la variable somme. Vous aurez également besoin d'une clause `if` pour déterminer si le nombre de fille doit être incrémenté (c'est-à-dire augmenté de 1) ou non.\n",
    "\n",
    "*(Écriver danas la cellule ci-dessous les lignes de code pour calculer le nombre de fille dans la classe et testez-les.)*"
   ]
  },
  {
   "cell_type": "code",
   "execution_count": null,
   "metadata": {},
   "outputs": [],
   "source": [
    "# Vos lignes de codes pour calculer le nombre de filles\n",
    "\n",
    "\n",
    "\n",
    "\n",
    "\n",
    "\n"
   ]
  },
  {
   "cell_type": "markdown",
   "metadata": {},
   "source": [
    "Vous avez réussi? Voici la solution ci-dessous:\n",
    "\n",
    "```\n",
    "nb_filles = 0\n",
    "for g in genres:\n",
    "    if (g == 'F'):\n",
    "        nb_filles += 1\n",
    "print(\"Il y a \"+str(nb_filles)+\" filles dans la classe.\")\n",
    "```\n",
    "\n",
    "Il y a un autre type de boucle, qui sont utilisées généralement quand on ne sait pas à l'avance combien de fois on doit répéter les instructions de la boucle: ce sont les boucles `while`. On en a déjà vu un exemple dans le notebook précédent. En voilà un autre exemple:"
   ]
  },
  {
   "cell_type": "code",
   "execution_count": null,
   "metadata": {},
   "outputs": [],
   "source": [
    "def trouver_eleve(nom):\n",
    "    indexe = 0\n",
    "    while (eleves[indexe]!=nom):\n",
    "        indexe += 1\n",
    "    return indexe\n",
    "    \n",
    "indexe_Marie = trouver_eleve(\"Marie\")\n",
    "print(\"Marie a une note de \"+str(notes[indexe_Marie]))"
   ]
  },
  {
   "cell_type": "markdown",
   "metadata": {},
   "source": [
    "La boucle `while` ci-dessus trouve le nom donné en paramètre dans la liste des élèves et retourne son indexe. La fonction est ensuite appelée pour trouver l'indexe de l'élève Marie et pour afficher sa note.\n",
    "\n",
    "Ici, l'usage d'une boucle `while` est approprié, car on ne sait pas le nombre de fois qu'on va devoir itérer avant de trouver l'élève.\n",
    "\n",
    "La boucle `while` marche de la manière suivante:\n",
    "On initialise la variable `indexe` qui va itérer sur les indexes des élèves, c'est-à-dire prendre en succéssion les différentes valeurs des indexes. La condition du `while` est `eleves[indexe]!=nom`, c'est-à-dire tant que l'élève d'indexe `indexe` est différent de l'élève cherché, la boucle `while` continue et la variable `indexe` est incrémentée par 1.  Quand la boucle `while` se termine, l'indexe de l'élève a donc été trouvé et est retourné par la fonction.\n",
    "\n",
    "Il y a cependant un très gros problème avec la fonction ci-dessus. Le voyez-vous?\n",
    "\n",
    "Examinez le code et réfléchissez à ce qui se passerait si on cherchait un élève qui n'est pas dans la classe, par exemple si on appelait `trouver_eleve(\"Marc\")`.\n",
    "\n",
    "Vous avez compris le problème? Comme Marc n'est pas dans la classe, la variable `indexe` va continuer d'être incrémentée. Mais `eleves[5]` n'existe pas, puisque les indexes de la liste `eleves` n'existent que pour les valeurs 0, 1, 2, 3, 4 et Python génère alors une erreur.\n",
    "\n",
    "Essayez ci-dessous pour vérifier!"
   ]
  },
  {
   "cell_type": "code",
   "execution_count": null,
   "metadata": {},
   "outputs": [],
   "source": [
    "trouver_eleve(\"Marc\")"
   ]
  },
  {
   "cell_type": "markdown",
   "metadata": {},
   "source": [
    "On veut corriger ça. Plutôt que de générer une erreur, on veut retourner -1 si l'élève n'est pas dans la classe. Ce qui nous amène à l'exercice suivant:\n",
    "\n",
    "Exercice:\n",
    "On veut modifier la fonction `trouver_eleve(nom)` pour retourner l'indexe de l'élève spécifié si on le trouve et sinon retourner -1.\n",
    "\n",
    "Écrivez une nouvelle fonction `trouver_eleve(nom)` avec cette propriété. Indice: utilisez dans la boucle `while` la condition `indexe < len(eleves) and eleves[indexe]!=nom`"
   ]
  },
  {
   "cell_type": "code",
   "execution_count": null,
   "metadata": {},
   "outputs": [],
   "source": [
    "# Modifier la fonction trouver_eleve ci-dessous de manière à ce qu'elle marche aussi bien pour\n",
    "# les élèves dans la classe que pour ceux qui n'y sont pas\n",
    "def trouver_eleve(nom):\n",
    "    indexe = 0\n",
    "    while (eleves[indexe]!=nom):\n",
    "        indexe += 1\n",
    "    return indexe\n",
    "\n",
    "print(trouver_eleve(\"Marie\"))\n",
    "print(trouver_eleve(\"Marc\"))"
   ]
  },
  {
   "cell_type": "markdown",
   "metadata": {},
   "source": [
    "Vous avez réussi?\n",
    "\n",
    "Sinon, voici une solution possible:\n",
    "\n",
    "```\n",
    "def trouver_eleve(nom):\n",
    "    indexe = 0\n",
    "    while (indexe < len(eleves) and eleves[indexe]!=nom):\n",
    "        indexe += 1\n",
    "    if indexe == len(eleves):\n",
    "        # l'élève recherché n'est pas dans la classe => retourner -1\n",
    "        indexe = -1\n",
    "    return indexe\n",
    "    \n",
    "print(trouver_eleve(\"Marie\"))\n",
    "print(trouver_eleve(\"Marc\"))\n",
    "```\n",
    "\n",
    "Remarquez l'utilisation de l'opérateur `and` qui assure qu'on ne continue la boucle que si la variable `indexe` a une valeur plus petite que la longueur de la liste `eleves` et que l'élève n'a pas encore été trouvé.\n",
    "\n",
    "Subtilité importante: le test `indexe < len(eleves) and eleves[indexe]!=nom` ne marche en fait que parce que si la première condition est fausse, alors la deuxième n'est pas évaluée. Si ce n'était pas le cas, `eleves[indexe]!=nom` serait évalué quand on chercherait \"Marc\" quand `indexe` vaudrait 5, ce qui générerait une erreur. Pour cette même raison, c'est important de d'abord vérifier que `indexe` n'est pas trop grand avant de regarder si `eleves[indexe]!=nom`. Ainsi, l'instruction `eleves[indexe]!=nom and indexe < len(eleves)` ferait crasher la fonction, bien que mathématiqeument équivalente au test `indexe < len(eleves) and eleves[indexe]!=nom`.\n",
    "\n",
    "Voilà, vous avez vu toutes les bases de la programmation en deux grandes bouchées (ou notebooks Jupyter). J'espère que ça ne vous a pas donné une indigestion. Passez un peu de temps à expérimenter avec ce que vous avez appris et assurez-vous que vous comprenez bien les exemples donnés.\n",
    "\n",
    "On continuera la semaine prochaine avec les algorithmes."
   ]
  },
  {
   "cell_type": "code",
   "execution_count": null,
   "metadata": {},
   "outputs": [],
   "source": [
    "# Expérimentez à coeur de joie ci-dessous...\n",
    "\n",
    "\n",
    "\n",
    "\n",
    "\n",
    "\n",
    "\n",
    "\n"
   ]
  }
 ],
 "metadata": {
  "kernelspec": {
   "display_name": "Python 3",
   "language": "python",
   "name": "python3"
  },
  "language_info": {
   "codemirror_mode": {
    "name": "ipython",
    "version": 3
   },
   "file_extension": ".py",
   "mimetype": "text/x-python",
   "name": "python",
   "nbconvert_exporter": "python",
   "pygments_lexer": "ipython3",
   "version": "3.7.6"
  }
 },
 "nbformat": 4,
 "nbformat_minor": 4
}
