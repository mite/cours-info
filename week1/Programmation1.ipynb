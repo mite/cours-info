{
 "cells": [
  {
   "cell_type": "markdown",
   "metadata": {},
   "source": [
    "# Bases de la programmation en Python\n",
    "\n",
    "Vous avez déjà vu avec Mme Michaud quelques éléments de programmation: les variables, les formats de données et les structures de contrôle.\n",
    "\n",
    "Nous allons les rappeler ici, puis vous apprendrez ce qu'est une fonction et vous apprendrez à définir vos propres fonctions.\n",
    "\n",
    "Vous apprendrez ici à programmer en Python, qui est un des nombreux languages de programmation. C'est un language relativement facile à apprendre et à utiliser et est également très répandu.\n",
    "\n",
    "**Remarque importante**: Dans cette page, vous allez devoir expérimenter. Il est possible qu'au cours de vos expérimentations, vous fassiez une erreur qui bloque le kernel. Si ça arrive, vous vous en apercevrez car les cellules ne s'exécuteront plus. Si c'est le cas, n'oubliez pas la formule magique: *Kernel -> Interrupt*.\n",
    "\n",
    "**Autre remarque importante**: Dans cette page vous allez exécuter des cellules dont le résultat va peut-être utilisé par d'autres cellules. Si vous faites une trop longue pause, votre kernel (qui exécute votre code et se souvient des variables et fonctions que vous avez définies) va s'arrêter. Si ça vous arrive, vous allez devoir exécuter à nouveau les cellules précédentes pour pouvoir continuer le tutoriel.\n",
    "\n",
    "### Les variables\n",
    "\n",
    "Les variables sont des petites boîtes où vous pouvez mettre une information, pour l'utiliser par la suite.\n",
    "\n",
    "Vous mettez un valeur dans une variable en écrivant le nom de la variable, suivi du signe = et suivi de la valeur à mettre en mémoire, comme ceci:\n",
    "\n",
    "*(Exécutez la cellule ci-dessous)*"
   ]
  },
  {
   "cell_type": "code",
   "execution_count": null,
   "metadata": {},
   "outputs": [],
   "source": [
    "ma_variable = 56"
   ]
  },
  {
   "cell_type": "markdown",
   "metadata": {},
   "source": [
    "Si c'est la première fois que vous faites référence à la variable ma_variable, elle va être créée et le nombre spécifié (56) va être storé dedans.\n",
    "\n",
    "Si vous l'avez déjà créée auparavant, le contenu de la variable va être modifié.\n",
    " \n",
    "Par exemple:\n",
    "\n",
    "*(Exécutez la cellule ci-dessous)*"
   ]
  },
  {
   "cell_type": "code",
   "execution_count": null,
   "metadata": {},
   "outputs": [],
   "source": [
    "print(ma_variable)\n",
    "ma_variable = -208\n",
    "print(ma_variable)"
   ]
  },
  {
   "cell_type": "markdown",
   "metadata": {},
   "source": [
    "La première ligne va afficher la valeur courante de la variable ma_variable (-> 56). La deuxième ligne va changer sa valeur à -208. La troisième ligne va afficher la nouvelle valeur de ma_variable (-> -208).\n",
    "\n",
    "Vous pouvez choisir n'importe quel nom comme variables, formés de lettres majuscules et minuscules (sans accents), de chiffres et du caractère souligné (_), et le nom d'une variable ne peut pas commencer par un chiffre. En Python, la convention veut qu'on utilise de préférence des lettre minuscules pour les noms de variables.\n",
    "\n",
    "Il y a aussi des noms qui sont réservés, parce qu'ils sont utilisés pour autre chose. Par exemple, vous ne pourriez pas définir une variable qui s'appelle <code>if</code>, parce que ce nom est réservé pour les clauses conditionnelles.\n",
    "\n",
    "Essayez par exemple d'exécuter le code ci-dessous pour voir ce qui se passe:"
   ]
  },
  {
   "cell_type": "code",
   "execution_count": null,
   "metadata": {},
   "outputs": [],
   "source": [
    "if = 1"
   ]
  },
  {
   "cell_type": "markdown",
   "metadata": {},
   "source": [
    "### Les types\n",
    "\n",
    "Les variables peuvent mettre en mémoire différents types de valeurs, en particulier:\n",
    "\n",
    "- des nombres entiers, ex: 1, 56, -208\n",
    "- des nombres rééls, ex: 1.56, -2.5, 25600.001\n",
    "- des chaînes de caractères, ex: \"@\", \"1\", \"Bonjour tout le monde!\", \"2.79\"\n",
    "\n",
    "Les chaînes de caractères sont des suites de un ou plus caractères et sont délimitées soit par des guillemets `\"comme ça\"`, soit par des apostrophes `'comme ça'`.\n",
    "\n",
    "Il y a également les listes qui peuvent mettre en mémoire plusieurs éléments d'information en même temps. Par exemple:\n",
    "\n",
    "[1, 8, -5, 4]\n",
    "[\"Bonjour tout le monde!\", \"titi\", \"2.79\"]\n",
    "\n",
    "Tous ces éléments d'information peuvent être mis dans des variables.\n",
    "\n",
    "Mais faites attention: certaines opérations sont réservées pour certains types. Par exemple, vous ne pouvez pas ajouter 1 à la chaîne de caractères 'toto' (c'est évident). Mais vous ne pouvez pas non plus ajouter 1 à la *chaîne de caractères* \"3.5\", ce qui est déjà moins évident...\n",
    "\n",
    "Par exemple:\n",
    "\n",
    "*(Exécutez la cellule ci-dessous)*"
   ]
  },
  {
   "cell_type": "code",
   "execution_count": null,
   "metadata": {},
   "outputs": [],
   "source": [
    "a = \"3.5\"\n",
    "print(a + 1)"
   ]
  },
  {
   "cell_type": "markdown",
   "metadata": {},
   "source": [
    "Ici, vous avez mis les caractères '3', '.' et '5' en mémoire dans la variable $a$. $a$ est interprété par python comme une chaîne de caractères, et non comme un nombre. Quand vous lui demandez d'y ajouter le nombre 1, il ne sait pas que faire et vous indique une erreur...\n",
    "\n",
    "Pour ajouter 1 au nombre représenté par la variable $a$, il faut d'abord convertir la chaîne de caractères dans $a$ en un nombre à virgule avec la commande <code>float</code>, de la manière suivante:\n",
    "\n",
    "*(Exécuter la cellule suivante)*"
   ]
  },
  {
   "cell_type": "code",
   "execution_count": null,
   "metadata": {},
   "outputs": [],
   "source": [
    "print(float(a) + 1)"
   ]
  },
  {
   "cell_type": "markdown",
   "metadata": {},
   "source": [
    "Remarquez que l'on peut ajouter deux chaînes de caractères, de la manière suivante:\n",
    "\n",
    "*(Exécuter la cellule suivante)*"
   ]
  },
  {
   "cell_type": "code",
   "execution_count": null,
   "metadata": {},
   "outputs": [],
   "source": [
    "\"3.14\" + \"15\""
   ]
  },
  {
   "cell_type": "markdown",
   "metadata": {},
   "source": [
    "Les deux chaînes de caractères ont été concaténées, c'est-à-dire mises côte à côte... Remarquez que le résultat est de nouveau une chaîne de caractères et non un nombre, même s'il en a l'apparence.\n",
    "\n",
    "La possibilité de concaténer les chaînes de caractères est très utile, comme ci-dessous:\n",
    "\n",
    "*(Exécutez la cellule ci-dessous et écrivez votre nom suivi d'un retour à la ligne, lorsque vous y êtes invité)*"
   ]
  },
  {
   "cell_type": "code",
   "execution_count": null,
   "metadata": {},
   "outputs": [],
   "source": [
    "nom = input(\"Quel est votre nom? \")\n",
    "print(\"Bonjour, \"+nom+\"!\")"
   ]
  },
  {
   "cell_type": "markdown",
   "metadata": {},
   "source": [
    "Le petit programme ci-dessus vous demande d'écrire votre nom (avec la fonction input), met ce que vous tapez au clavier dans la variable *nom*, puis vous salue très poliment en utilisant votre nom (et la concaténation).\n",
    "\n",
    "Ça n'a pas marché? Plus rien ne fonctionne tout à coup? Vous n'avez peut-être pas répondu au *input* et le programme s'est bloqué... Ne paniquez pas si c'est le cas: un petit *Interrupt* (menu Kernel) remettra tout en place...\n",
    "\n",
    "Voici un autre petit programme, mais il a un problème. Il vous demande 2 nombres et les additionne, mais le resultat de ses calculs ne semble pas complètement correct. Arrivez-vous à comprendre pourquoi et à le corriger?\n",
    "\n",
    "*(Exécutez la cellule ci-dessous et corrigez-la...)*"
   ]
  },
  {
   "cell_type": "code",
   "execution_count": null,
   "metadata": {},
   "outputs": [],
   "source": [
    "# demande à l'utilisateur d'introduire deux nombres\n",
    "n1 = input(\"Premier nombre: \")\n",
    "n2 = input(\"Deuxième nombre: \")\n",
    "# Fais la somme des deux nombres et écrit le résultat\n",
    "print(n1 + n2)"
   ]
  },
  {
   "cell_type": "markdown",
   "metadata": {},
   "source": [
    "Avez-vous compris ce qui clochait et avez-vous réussi à corriger le programme?\n",
    "\n",
    "Le résultat de input est interprété comme une *chaîne de caractère* et non comme un nombre par Python. Lorsque vous faites `n1 + n2`, ces deux chaînes de caractères sont concaténées et non ajoutées... Vous devez donc les convertir tout d'abord en nombre avec la fonction `float`, de la manière suivante:\n",
    "\n",
    "```print(float(n1) + float(n2))```\n",
    "\n",
    "Ici, `n2` et `n2` seront d'abord converti en nombre avant d'être additionnés. Si vous ne l'avez pas déjà fait, corrigez la cellule ci-dessus et vérifiez que le programme additionne maintenant correctement les nombres donnés.\n",
    "\n",
    "Voici un autre exemple où le type de la variable cause un problème. Arrivez-vous à trouver l'erreur et à la corriger? (Indice: vous aurez besonde la fonction `str` qui converti un nombre en une chaîne de caractères)\n",
    "\n",
    "*(Trouver l'erreur dans le programme ci-dessus et essayer de la corriger. Essayer tout d'abord de l'exécuter: le message d'erreur indique la ligne où il y a un problème et peut vous aider!)*"
   ]
  },
  {
   "cell_type": "code",
   "execution_count": null,
   "metadata": {
    "scrolled": true
   },
   "outputs": [],
   "source": [
    "# demande à l'utilisateur d'introduire deux nombres\n",
    "n1 = input(\"Premier nombre: \")\n",
    "n2 = input(\"Deuxième nombre: \")\n",
    "# Additionne les deux nombres et les met en mémoire dans la variable somme\n",
    "somme = float(n1) + float(n2)\n",
    "# affiche le résultat\n",
    "print(\"La somme des deux nombres est \" + somme)"
   ]
  },
  {
   "cell_type": "markdown",
   "metadata": {},
   "source": [
    "Vous avez trouvé le problème?\n",
    "\n",
    "La variable `somme` contient *un nombre* et non une chaîne de caractère. Son contenu ne peut donc pas être concaténé tel quel à la chaîne de caractères `\"La somme des deux nombres est \"`. Vous devez donc convertir `somme` en une chaîne de caractères avec la fonction `str`. Le résultat final devrait être:\n",
    "\n",
    "```\n",
    "# demande à l'utilisateur d'introduire deux nombres\n",
    "n1 = input(\"Premier nombre: \")\n",
    "n2 = input(\"Deuxième nombre: \")\n",
    "# Additionne les deux nombres et les met en mémoire dans la variable somme\n",
    "somme = float(n1) + float(n2)\n",
    "# affiche le résultat\n",
    "print(\"La somme des deux nombres est \" + str(somme))\n",
    "```\n",
    "\n",
    "Si vous ne l'avez pas déjà fait, corrigez le programme ci-dessus et vérifiez qu'il marche.\n",
    "\n",
    "---\n",
    "\n",
    "Dans ce notebook, vous avez appris ou réappris ce qu'est une variable et ce que sont les types. [Dans le notebook suivant, on parlera un peu plus en détail des listes, puis on regardera les structures de contrôles `if`, `for` et `while`.](Programmation2.ipynb)"
   ]
  }
 ],
 "metadata": {
  "kernelspec": {
   "display_name": "Python 3",
   "language": "python",
   "name": "python3"
  },
  "language_info": {
   "codemirror_mode": {
    "name": "ipython",
    "version": 3
   },
   "file_extension": ".py",
   "mimetype": "text/x-python",
   "name": "python",
   "nbconvert_exporter": "python",
   "pygments_lexer": "ipython3",
   "version": "3.7.6"
  }
 },
 "nbformat": 4,
 "nbformat_minor": 4
}
