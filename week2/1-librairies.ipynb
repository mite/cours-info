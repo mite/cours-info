{
 "cells": [
  {
   "cell_type": "markdown",
   "metadata": {},
   "source": [
    "# Des librairies et des librairies et des librairies...\n",
    "\n",
    "Dans ce tutoriel, vous allez apprendre ce que sont les librairies en Python. Et si vous vous imaginez des étagères couvertes de livres sur la programmation,  eh bien ce n'est pas ça...\n",
    "\n",
    "Vous avez déjà rêvé de pouvoir apprendre une langue étrangère ou apprendre à jouer le piano en une fraction de seconde, comme dans certains livres de science-fiction? En Python, c'est possible grâce aux librairies. Les librairies sont des collections de fonctions sur un sujet particulier. Il suffit d'importer une librairie Python dans votre programme, et tout à coup ses capacités dans un domaine donné sont décuplées.\n",
    "\n",
    "Un exemple? Par lui-même, Python en connait moins que votre machine à calculer. En fait, il ne sait même pas calculer un sinus. Essayez d'exécuter la ligne suivante (j'espère que vous avez déjà vu en math les angles en radian et que vous savez que $\\sin\\left(\\pi/2\\right)$ vaut 1...):"
   ]
  },
  {
   "cell_type": "code",
   "execution_count": null,
   "metadata": {},
   "outputs": [],
   "source": [
    "sin(pi/2)"
   ]
  },
  {
   "cell_type": "markdown",
   "metadata": {},
   "source": [
    "Vous avez obtenu un message d'erreur? C'est normal. Python ne connait ni la fonction sin, ni la constante pi, et ne sais pas ce que vous lui voulez... Interviennent ici la librairie *math*. En exécutant la ligne suivante, Python va savoir tout à coup plus de 50 fonctions et constantes mathématiques et va devenir un expert en math:"
   ]
  },
  {
   "cell_type": "code",
   "execution_count": null,
   "metadata": {},
   "outputs": [],
   "source": [
    "from math import *"
   ]
  },
  {
   "cell_type": "markdown",
   "metadata": {},
   "source": [
    "Essayez maintenant de nouveau d'exécuter la ligne ci-dessus pour calculer $\\sin\\left(\\pi/2\\right)$ : il devrait pouvoir l'exécuter sans problème et vous rendre 1.\n",
    "\n",
    "Ça a marché?\n",
    "\n",
    "Bon, ce n'est pas si intéressant, puisque vous pouvez en faire autant avec votre machine à calculer. Un autre exemple plus intéressant: importez la librairie sympy (pour \"symbolic python\") et Python saura tout à coup factoriser des expressions mathématiques, résoudre des équations et beaucoup plus...\n",
    "\n",
    "(Exécutez les deux cellules ci-dessous)"
   ]
  },
  {
   "cell_type": "code",
   "execution_count": null,
   "metadata": {},
   "outputs": [],
   "source": [
    "from sympy import *\n",
    "\n",
    "# indique que x est une variable\n",
    "x = symbols('x')\n",
    "# pour qu'il écrive joliment le résultat des calculs...\n",
    "init_printing()\n",
    "# factorise l'expression entre parenthèses. x**3 signifie \"x puissance 3\"\n",
    "factor(x**3-x**2+x-1)"
   ]
  },
  {
   "cell_type": "code",
   "execution_count": null,
   "metadata": {},
   "outputs": [],
   "source": [
    "# trouve les zéros de la fonction donnée pour la variable x\n",
    "solve(x**2-5*x+3,x)"
   ]
  },
  {
   "cell_type": "markdown",
   "metadata": {},
   "source": [
    "Plus simple que de calculer vous-même avec la formule de Viète, non?\n",
    "\n",
    "Python a plus de 100000 librairies, et chaque librairie contient des dizaines, voire des centaines de fonctions. Il y en a pour un peu n'importe quoi, certaines tellement bizarres qu'elles ne sont presque jamais utilisées, d'autres tellement utiles que tout le monde les connait (comme la librairie math). Il y en a pour faire de jolis graphiques, pour analyser des textes (morphologie, syntaxe, analyse de sentiments, etc.), pour faire des analyses statistiques, pour faire du \"machine learning\" ce qui permet aux ordinateurs d'apprendre un peu comme le fait un enfant, pour convertir des données d'un format à un autre, pour aller chercher des resources sur internet, pour gérer des bases de données, pour faire des jolies interfaces utilisateur, pour reconnaître des objets sur des images, pour faire de la reconnaissance de parole, pour développer des jeux, etc.\n",
    "\n",
    "N'importe qui peut également fabriquer sa propre librairie et la mettre à disposition des autres programmeurs Python.\n",
    "\n",
    "Certaines librairies ne nécessitent que quelques lignes de code pour des applications sophistiquées. D'autres sont extrêmement compliquées à utiliser, mais permettent un grand contrôle. Il n'est pas question qu'on explore ici, même superficiellement, les librairies Python. Par contre, j'aimerais vous donner un goût de ce qui peut être fait avec quelques librairies.\n",
    "\n",
    "Dans les exemples ci-dessous, vous n'avez pas besoin de comprendre le code, juste de les exécuter pour vous donner une idée. Après, si vous avez plus tard une application spécifique en tête que vous aimeriez pouvoir réaliser, vous pouvez utiliser Google, localiser les librairies appropriées et les importer dans votre projet...\n",
    "\n",
    "Voici une première application: la librairie mahotas est une librairie de traitement d'image et de vision par ordinateur. Elle est utilisée ci-dessous pour... [trouver Charlie!](https://fr.wikipedia.org/wiki/Où_est_Charlie_%3F)"
   ]
  },
  {
   "cell_type": "code",
   "execution_count": null,
   "metadata": {},
   "outputs": [],
   "source": [
    "from pylab import imshow, show\n",
    "import numpy as np\n",
    "import mahotas\n",
    "import mahotas.demos\n",
    "wally = mahotas.demos.load(\"Wally\") # Wally est Charlie en français...\n",
    "imshow(wally, vmin='500')\n",
    "show()"
   ]
  },
  {
   "cell_type": "markdown",
   "metadata": {},
   "source": [
    "Vous arrivez à trouver Charlie? Sinon, exécutez le code ci-dessous et le Python le trouvera pour vous..."
   ]
  },
  {
   "cell_type": "code",
   "execution_count": null,
   "metadata": {},
   "outputs": [],
   "source": [
    "# défini à quoi ressemble Charlie avec son T-shirt rayé rouge et blanc\n",
    "wfloat = wally.astype(float)\n",
    "r,g,b = wfloat.transpose((2,0,1))\n",
    "w = wfloat.mean(2)\n",
    "pattern = np.ones((24,16), float)\n",
    "for i in range(2):\n",
    "    pattern[i::4] = -1\n",
    "v = mahotas.convolve(r-w, pattern)\n",
    "# trouve Charlie\n",
    "mask = (v == v.max())\n",
    "mask = mahotas.dilate(mask, np.ones((48,24)))\n",
    "np.subtract(wally, .8*wally * ~mask[:,:,None], out=wally, casting='unsafe')\n",
    "imshow(wally)\n",
    "show()"
   ]
  },
  {
   "cell_type": "markdown",
   "metadata": {},
   "source": [
    "La librairie textblob permet d'analyser un texte avec quelques instructions. Voici un exemple en anglais. Le résultat: la liste des mots du texte avec leur fonction grammaticale."
   ]
  },
  {
   "cell_type": "code",
   "execution_count": null,
   "metadata": {},
   "outputs": [],
   "source": [
    "from textblob import TextBlob\n",
    "text = '''\n",
    "The titular threat of The Blob has always struck me as the ultimate movie\n",
    "monster: an insatiably hungry, amoeba-like mass able to penetrate\n",
    "virtually any safeguard, capable of--as a doomed doctor chillingly\n",
    "describes it--\"assimilating flesh on contact.\n",
    "Snide comparisons to gelatin be damned, it's a concept with the most\n",
    "devastating of potential consequences, not unlike the grey goo scenario\n",
    "proposed by technological theorists fearful of\n",
    "artificial intelligence run rampant.\n",
    "'''\n",
    "blob = TextBlob(text)\n",
    "blob.tags"
   ]
  },
  {
   "cell_type": "markdown",
   "metadata": {},
   "source": [
    "La librairie suivante est a une simple fonction très spécifique: créer, afficher et résoudre des labyrinthes. Ça sert à quoi? Je ne sais pas, mais c'est joli..."
   ]
  },
  {
   "cell_type": "code",
   "execution_count": null,
   "metadata": {},
   "outputs": [],
   "source": [
    "from mazelib import Maze\n",
    "from mazelib.generate.Prims import Prims\n",
    "\n",
    "m = Maze()\n",
    "\n",
    "# pos_start et pos_end indiquent la position du début et de la fin du labyrinthe. Essayez de changer ces nombres...\n",
    "pos_start = 5\n",
    "pos_end = 25\n",
    "\n",
    "# size_i et size_j indiquent la taille du labyrinthe. Essayez de changer ces nombres...\n",
    "size_i = 30\n",
    "size_j = 50\n",
    "m.start = (pos_start, 0)\n",
    "m.end = (pos_end, size_j)\n",
    "m.generator = Prims(size_i, size_j)\n",
    "m.generate()\n",
    "\n",
    "import matplotlib.pyplot as plt\n",
    "\n",
    "def showPNG(grid):\n",
    "    \"\"\"Generate a simple image of the maze.\"\"\"\n",
    "    plt.figure(figsize=(size_i, size_j))\n",
    "    plt.imshow(grid, cmap=plt.cm.binary, interpolation='nearest')\n",
    "    plt.xticks([]), plt.yticks([])\n",
    "    plt.show()\n",
    "\n",
    "m.grid[pos_start*2-1][0] = False\n",
    "m.grid[pos_end*2-1][size_j*2] = False\n",
    "\n",
    "showPNG(m.grid)"
   ]
  },
  {
   "cell_type": "markdown",
   "metadata": {},
   "source": [
    "Finalement, quelque chose d'un peu plus utile: la librairie seaborn qui peut vous aider à faire des graphiques magnifiques avec vos données. En voici un exemple ci-dessous. Vous pouvez trouver d'autres exemples de graphes et des tutoriels (en anglais) [sur cette page](https://seaborn.pydata.org/examples/index.html).\n",
    "\n",
    "(Exécuter le code ci-dessous)"
   ]
  },
  {
   "cell_type": "code",
   "execution_count": null,
   "metadata": {},
   "outputs": [],
   "source": [
    "import numpy as np\n",
    "import seaborn as sns\n",
    "import matplotlib.pyplot as plt\n",
    "sns.set(style=\"darkgrid\")\n",
    "\n",
    "tips = sns.load_dataset(\"tips\")\n",
    "g = sns.FacetGrid(tips, row=\"sex\", col=\"time\", margin_titles=True)\n",
    "bins = np.linspace(0, 60, 13)\n",
    "g.map(plt.hist, \"total_bill\", color=\"steelblue\", bins=bins)"
   ]
  },
  {
   "cell_type": "markdown",
   "metadata": {},
   "source": [
    "Vous pouvez continuer maintenant avec un [tutoriel sur les algorithmes](2-algorithmes.ipynb)"
   ]
  }
 ],
 "metadata": {
  "kernelspec": {
   "display_name": "Python 3",
   "language": "python",
   "name": "python3"
  },
  "language_info": {
   "codemirror_mode": {
    "name": "ipython",
    "version": 3
   },
   "file_extension": ".py",
   "mimetype": "text/x-python",
   "name": "python",
   "nbconvert_exporter": "python",
   "pygments_lexer": "ipython3",
   "version": "3.7.6"
  }
 },
 "nbformat": 4,
 "nbformat_minor": 4
}
